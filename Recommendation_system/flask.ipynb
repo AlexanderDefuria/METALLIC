{
 "cells": [
  {
   "cell_type": "code",
   "execution_count": 1,
   "metadata": {},
   "outputs": [],
   "source": [
    "# app.py\n",
    "from flask import Flask, request, jsonify\n",
    "from flask_cors import CORS\n",
    "import pandas as pd\n",
    "import final_model\n",
    "from werkzeug.utils import secure_filename\n",
    "import os"
   ]
  },
  {
   "cell_type": "code",
   "execution_count": 4,
   "metadata": {},
   "outputs": [
    {
     "name": "stdout",
     "output_type": "stream",
     "text": [
      " * Serving Flask app '__main__'\n",
      " * Debug mode: on\n"
     ]
    },
    {
     "name": "stderr",
     "output_type": "stream",
     "text": [
      "WARNING: This is a development server. Do not use it in a production deployment. Use a production WSGI server instead.\n",
      " * Running on http://127.0.0.1:5000\n",
      "Press CTRL+C to quit\n",
      " * Restarting with stat\n"
     ]
    },
    {
     "ename": "SystemExit",
     "evalue": "1",
     "output_type": "error",
     "traceback": [
      "An exception has occurred, use %tb to see the full traceback.\n",
      "\u001b[1;31mSystemExit\u001b[0m\u001b[1;31m:\u001b[0m 1\n"
     ]
    }
   ],
   "source": [
    "app = Flask(__name__)\n",
    "CORS(app)\n",
    "@app.route('/upload', methods=['POST'])\n",
    "def upload_file():\n",
    "    if 'file' not in request.files:\n",
    "        return 'No file part'\n",
    "    file = request.files['file']\n",
    "    if file.filename == '':\n",
    "        return 'No selected file'\n",
    "    if file:\n",
    "        filename = secure_filename(file.filename)\n",
    "        filepath = os.path.join('C:/Ronald/uOttawa/CSI 6900/Metallic-main/creating_metafeatures/test_dataset/', filename)\n",
    "        file.save(filepath)\n",
    "        # Now you can use the filepath with your model\n",
    "        return jsonify({\"message\": \"File uploaded successfully\", \"filename\": filename})\n",
    "\n",
    "# Assuming your model function is named run_model and imported correctly\n",
    "@app.route('/runmodel', methods=['POST'])\n",
    "def model_endpoint():\n",
    "    if request.method == 'POST':\n",
    "        # Extract data from request\n",
    "        data = request.json\n",
    "        filename = data['filename']\n",
    "        metrics = data['metrics']\n",
    "        classifier = data['classifier']\n",
    "        no_resampling_methods = data['no_resampling_methods']\n",
    "        \n",
    "        # You might need to adjust the way you handle file uploads\n",
    "        # For simplicity, this assumes filename is a path or identifier you can use directly\n",
    "        \n",
    "        # Run your model\n",
    "        recommendations = final_model.run_model(filename, metrics, classifier, no_resampling_methods)\n",
    "        \n",
    "        # Return the recommendations as a JSON response\n",
    "        return jsonify(recommendations)\n",
    "\n",
    "if __name__ == '__main__':\n",
    "    app.run(debug=True)"
   ]
  },
  {
   "cell_type": "code",
   "execution_count": 2,
   "metadata": {},
   "outputs": [
    {
     "data": {
      "text/plain": [
       "['NeighbourhoodCleaningRule',\n",
       " 'InstanceHardnessThreshold',\n",
       " 'SVMSMOTE',\n",
       " 'SMOTETomek',\n",
       " 'SMOTEENN']"
      ]
     },
     "execution_count": 2,
     "metadata": {},
     "output_type": "execute_result"
    }
   ],
   "source": [
    "file = 'C:/Ronald/uOttawa/CSI 6900/Metallic-main/creating_metafeatures/test_dataset/hill-valley.csv'\n",
    "metric = 'F1'\n",
    "classifier = 'KNN'\n",
    "no_resampling_methods = 5\n",
    "final_model.run_model(file, metric, classifier, no_resampling_methods)"
   ]
  }
 ],
 "metadata": {
  "kernelspec": {
   "display_name": "Python 3.11.4 64-bit",
   "language": "python",
   "name": "python3"
  },
  "language_info": {
   "codemirror_mode": {
    "name": "ipython",
    "version": 3
   },
   "file_extension": ".py",
   "mimetype": "text/x-python",
   "name": "python",
   "nbconvert_exporter": "python",
   "pygments_lexer": "ipython3",
   "version": "3.11.4"
  },
  "orig_nbformat": 4,
  "vscode": {
   "interpreter": {
    "hash": "a75b28f9753f4e2f1476ae5e5ad4b4ab71094e0d64ff40d9df34ddf691f3c573"
   }
  }
 },
 "nbformat": 4,
 "nbformat_minor": 2
}
